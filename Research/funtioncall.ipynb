{
 "cells": [
  {
   "cell_type": "code",
   "execution_count": 4,
   "metadata": {},
   "outputs": [],
   "source": [
    "import inspect\n",
    "from textwrap import indent\n",
    "from typing import Callable, Dict, Any\n",
    "import json\n",
    "\n",
    "def generate_function_metadata(func: Callable) -> Dict[str, Any]:\n",
    "    \"\"\"\n",
    "    Generate metadata for a given function, including its name, description, \n",
    "    parameters, and annotations.\n",
    "\n",
    "    Args:\n",
    "        func (Callable): The function to inspect.\n",
    "\n",
    "    Returns:\n",
    "        Dict[str, Any]: A dictionary representing the function metadata.\n",
    "    \"\"\"\n",
    "    # Extract the function's signature\n",
    "    sig = inspect.signature(func)\n",
    "    parameters = sig.parameters\n",
    "\n",
    "    # Extract docstring\n",
    "    docstring = inspect.getdoc(func) or \"No description available.\"\n",
    "\n",
    "    # Build properties for parameters\n",
    "    properties = {}\n",
    "    required = []\n",
    "\n",
    "    for name, param in parameters.items():\n",
    "        param_type = str(param.annotation) if param.annotation != inspect._empty else \"any\"\n",
    "        default_value = None if param.default == inspect._empty else param.default\n",
    "\n",
    "        properties[name] = {\n",
    "            \"type\": param_type,\n",
    "            \"description\": f\"Parameter '{name}' of type {param_type}\",\n",
    "        }\n",
    "        if default_value is not None:\n",
    "            properties[name][\"default\"] = default_value\n",
    "\n",
    "        if default_value is None:\n",
    "            required.append(name)\n",
    "\n",
    "    # Generate the metadata dictionary\n",
    "    metadata = {\n",
    "        \"type\": \"function\",\n",
    "        \"function\": {\n",
    "            \"name\": func.__name__,\n",
    "            \"description\": docstring,\n",
    "            \"parameters\": {\n",
    "                \"type\": \"object\",\n",
    "                \"properties\": properties,\n",
    "                \"required\": required,\n",
    "            },\n",
    "        },\n",
    "    }\n",
    "\n",
    "    return metadata\n",
    "\n",
    "\n",
    "# Example function\n",
    "def calculate(expression: str) -> float:\n",
    "    \"\"\"\n",
    "    Evaluate a mathematical expression.\n",
    "\n",
    "    Args:\n",
    "        expression (str): The mathematical expression to evaluate.\n",
    "\n",
    "    Returns:\n",
    "        float: The result of the evaluated expression.\n",
    "    \"\"\"\n",
    "    return eval(expression)\n",
    "\n"
   ]
  },
  {
   "cell_type": "code",
   "execution_count": 5,
   "metadata": {},
   "outputs": [
    {
     "name": "stdout",
     "output_type": "stream",
     "text": [
      "{'type': 'function', 'function': {'name': 'calculate', 'description': 'Evaluate a mathematical expression.\\n\\nArgs:\\n    expression (str): The mathematical expression to evaluate.\\n\\nReturns:\\n    float: The result of the evaluated expression.', 'parameters': {'type': 'object', 'properties': {'expression': {'type': \"<class 'str'>\", 'description': \"Parameter 'expression' of type <class 'str'>\"}}, 'required': ['expression']}}}\n"
     ]
    }
   ],
   "source": [
    "metadata = generate_function_metadata(calculate)\n",
    "print(metadata)"
   ]
  },
  {
   "cell_type": "code",
   "execution_count": null,
   "metadata": {},
   "outputs": [],
   "source": []
  }
 ],
 "metadata": {
  "kernelspec": {
   "display_name": "Python 3",
   "language": "python",
   "name": "python3"
  },
  "language_info": {
   "codemirror_mode": {
    "name": "ipython",
    "version": 3
   },
   "file_extension": ".py",
   "mimetype": "text/x-python",
   "name": "python",
   "nbconvert_exporter": "python",
   "pygments_lexer": "ipython3",
   "version": "3.12.1"
  }
 },
 "nbformat": 4,
 "nbformat_minor": 2
}
